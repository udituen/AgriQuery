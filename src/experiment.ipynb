{
 "cells": [
  {
   "cell_type": "markdown",
   "id": "9ed850a9",
   "metadata": {},
   "source": [
    "Read Data"
   ]
  },
  {
   "cell_type": "code",
   "execution_count": 5,
   "id": "0827ce42",
   "metadata": {},
   "outputs": [],
   "source": [
    "import numpy as np"
   ]
  },
  {
   "cell_type": "code",
   "execution_count": 3,
   "id": "70272b3a",
   "metadata": {},
   "outputs": [],
   "source": [
    "from langchain_community.document_loaders import PyMuPDFLoader"
   ]
  },
  {
   "cell_type": "code",
   "execution_count": 41,
   "id": "c0255711",
   "metadata": {},
   "outputs": [],
   "source": [
    "# initialize loader\n",
    "\n",
    "loader = PyMuPDFLoader(\"../data/vasular_plant.pdf\")\n",
    "\n",
    "# save to a list\n",
    "pages = []\n",
    "\n",
    "# we will be be using alazyloader, whihc is easier on the memory, incase of tasks that are heavey, like ours\n",
    "async for page in loader.alazy_load():\n",
    "    pages.append(page)"
   ]
  },
  {
   "cell_type": "code",
   "execution_count": 39,
   "id": "70cc25c2",
   "metadata": {},
   "outputs": [
    {
     "name": "stdout",
     "output_type": "stream",
     "text": [
      "GUIDELINES FOR\n",
      "SOIL DESCRIPTION\n"
     ]
    }
   ],
   "source": [
    "for page in pages:\n",
    "    print(page.page_content)\n",
    "    break"
   ]
  },
  {
   "cell_type": "markdown",
   "id": "682114a8",
   "metadata": {},
   "source": [
    "Let's chunk next!"
   ]
  },
  {
   "cell_type": "code",
   "execution_count": 57,
   "id": "2b1bd77c",
   "metadata": {},
   "outputs": [],
   "source": [
    "from langchain_text_splitters.character import RecursiveCharacterTextSplitter\n",
    "from langchain_core.documents import Document \n",
    "import itertools"
   ]
  },
  {
   "cell_type": "code",
   "execution_count": 29,
   "id": "6b398094",
   "metadata": {},
   "outputs": [],
   "source": [
    "# initialise the chunk metho\n",
    "\n",
    "splitter = RecursiveCharacterTextSplitter(\n",
    "    chunk_size=300,\n",
    "    chunk_overlap=50\n",
    ")"
   ]
  },
  {
   "cell_type": "code",
   "execution_count": 46,
   "id": "d57c48bf",
   "metadata": {},
   "outputs": [
    {
     "data": {
      "text/plain": [
       "str"
      ]
     },
     "execution_count": 46,
     "metadata": {},
     "output_type": "execute_result"
    }
   ],
   "source": [
    "type(pages[0].page_content)"
   ]
  },
  {
   "cell_type": "code",
   "execution_count": 58,
   "id": "8716ba1a",
   "metadata": {},
   "outputs": [
    {
     "data": {
      "text/plain": [
       "187"
      ]
     },
     "execution_count": 58,
     "metadata": {},
     "output_type": "execute_result"
    }
   ],
   "source": [
    "# convert pages to langchain document\n",
    "\n",
    "chunks = []\n",
    "\n",
    "for page in pages:\n",
    "    docs = [Document(page_content=page.page_content)]\n",
    "    texts = splitter.split_documents(docs)\n",
    "    chunks.append(texts)\n",
    "\n",
    "chunk = list(itertools.chain(*chunks))\n",
    "len(chunk)"
   ]
  },
  {
   "cell_type": "markdown",
   "id": "c1312cf5",
   "metadata": {},
   "source": [
    "Embed document using sentence transformer"
   ]
  },
  {
   "cell_type": "code",
   "execution_count": 62,
   "id": "4a12fe56",
   "metadata": {},
   "outputs": [],
   "source": [
    "# from sentence_transformers import SentenceTransformer\n",
    "from langchain.embeddings import HuggingFaceEmbeddings\n",
    "from langchain.vectorstores import FAISS\n",
    "from langchain.docstore.document import Document\n"
   ]
  },
  {
   "cell_type": "code",
   "execution_count": null,
   "id": "e6686686",
   "metadata": {},
   "outputs": [],
   "source": [
    "model = SentenceTransformer('all-MiniLM-L6-v2')"
   ]
  },
  {
   "cell_type": "code",
   "execution_count": 70,
   "id": "bfcd953f",
   "metadata": {},
   "outputs": [],
   "source": [
    "embeddings = HuggingFaceEmbeddings(model_name=\"all-MiniLM-L6-v2\")\n",
    "db = FAISS.from_documents(chunk, embeddings)"
   ]
  },
  {
   "cell_type": "code",
   "execution_count": 71,
   "id": "bd0fafa9",
   "metadata": {},
   "outputs": [],
   "source": [
    "db.save_local(\"../vectorestore/agriquery_faiss_index\")"
   ]
  },
  {
   "cell_type": "code",
   "execution_count": 2,
   "id": "53b9cc9a",
   "metadata": {},
   "outputs": [],
   "source": [
    "## test fastAPI\n",
    "\n",
    "import requests\n"
   ]
  },
  {
   "cell_type": "code",
   "execution_count": 3,
   "id": "5ec792a4",
   "metadata": {},
   "outputs": [
    {
     "name": "stdout",
     "output_type": "stream",
     "text": [
      "{'answer': \"Soil erosion is the process of wearing away or removing topsoil from the earth's surface due to various factors, such as human-induced actions and natural processes. In the context of agricultural practices, it can be caused by inappropriate farming methods, overgrazing, removal or exploitation of natural vegetation, and other human activities that lead to soil degradation.\"}\n"
     ]
    }
   ],
   "source": [
    "\n",
    "data = {\"query\": \"What is soil erosion?\"}\n",
    "response = requests.post(\"http://localhost:8000/query\", json=data)\n",
    "print(response.json())\n"
   ]
  },
  {
   "cell_type": "code",
   "execution_count": null,
   "id": "1c6c61bf",
   "metadata": {},
   "outputs": [],
   "source": []
  }
 ],
 "metadata": {
  "kernelspec": {
   "display_name": "ragapp",
   "language": "python",
   "name": "python3"
  },
  "language_info": {
   "codemirror_mode": {
    "name": "ipython",
    "version": 3
   },
   "file_extension": ".py",
   "mimetype": "text/x-python",
   "name": "python",
   "nbconvert_exporter": "python",
   "pygments_lexer": "ipython3",
   "version": "3.11.13"
  }
 },
 "nbformat": 4,
 "nbformat_minor": 5
}
